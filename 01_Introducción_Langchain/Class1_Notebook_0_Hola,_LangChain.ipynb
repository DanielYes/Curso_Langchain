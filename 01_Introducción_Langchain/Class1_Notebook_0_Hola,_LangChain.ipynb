{
  "cells": [
    {
      "cell_type": "markdown",
      "metadata": {
        "id": "X11QtSmiMV9e"
      },
      "source": [
        "# Hola, mundo en LangChain"
      ]
    },
    {
      "cell_type": "markdown",
      "metadata": {
        "id": "drFyYyIWMavB"
      },
      "source": [
        "## Instalar librerías principales y configuración de API Key de OpenAI"
      ]
    },
    {
      "cell_type": "code",
      "execution_count": 1,
      "metadata": {
        "colab": {
          "base_uri": "https://localhost:8080/"
        },
        "id": "dHG9AVJkh3Dz",
        "outputId": "616af93a-257b-4cba-81d9-2d2797414792"
      },
      "outputs": [],
      "source": [
        "from getpass import getpass\n",
        "import os\n",
        "\n",
        "OPENAI_API_KEY = os.getenv(\"OPENAI_API_KEY\")"
      ]
    },
    {
      "cell_type": "markdown",
      "metadata": {
        "id": "4Z_Xi-GvMf8E"
      },
      "source": [
        "## Carga de documents"
      ]
    },
    {
      "cell_type": "code",
      "execution_count": 2,
      "metadata": {
        "colab": {
          "base_uri": "https://localhost:8080/"
        },
        "id": "W_6B2k3Vcfxt",
        "outputId": "862c3d28-9656-41cc-ecde-31daec5f7a6e"
      },
      "outputs": [
        {
          "name": "stdout",
          "output_type": "stream",
          "text": [
            "Descargado paper_1.pdf\n",
            "Descargado paper_2.pdf\n",
            "Descargado paper_3.pdf\n",
            "Descargado paper_4.pdf\n",
            "Descargado paper_5.pdf\n",
            "Contenido de ml_papers:\n",
            "\n"
          ]
        }
      ],
      "source": [
        "import requests\n",
        "from langchain.document_loaders import PyPDFLoader\n",
        "\n",
        "urls = [\n",
        "    'https://arxiv.org/pdf/2306.06031v1.pdf',\n",
        "    'https://arxiv.org/pdf/2306.12156v1.pdf',\n",
        "    'https://arxiv.org/pdf/2306.14289v1.pdf',\n",
        "    'https://arxiv.org/pdf/2305.10973v1.pdf',\n",
        "    'https://arxiv.org/pdf/2306.13643v1.pdf'\n",
        "]\n",
        "\n",
        "ml_papers = []\n",
        "\n",
        "for i, url in enumerate(urls):\n",
        "    response = requests.get(url)\n",
        "    filename = f'paper_{i+1}.pdf'\n",
        "    with open(filename, 'wb') as f:\n",
        "        f.write(response.content)\n",
        "        print(f'Descargado {filename}')\n",
        "\n",
        "        loader = PyPDFLoader(filename)\n",
        "        data = loader.load()\n",
        "        ml_papers.extend(data)\n",
        "\n",
        "# Utiliza la lista ml_papers para acceder a los elementos de todos los documentos descargados\n",
        "print('Contenido de ml_papers:')\n",
        "print()"
      ]
    },
    {
      "cell_type": "code",
      "execution_count": 3,
      "metadata": {
        "colab": {
          "base_uri": "https://localhost:8080/"
        },
        "id": "UgT_gejveKq7",
        "outputId": "2d4161bd-1cb0-4bf2-a038-b685912c000c"
      },
      "outputs": [
        {
          "data": {
            "text/plain": [
              "(list,\n",
              " 57,\n",
              " Document(metadata={'producer': 'pdfTeX-1.40.25', 'creator': 'LaTeX with hyperref', 'creationdate': '2023-06-12T00:32:18+00:00', 'author': '', 'keywords': '', 'moddate': '2023-06-12T00:32:18+00:00', 'ptex.fullbanner': 'This is pdfTeX, Version 3.141592653-2.6-1.40.25 (TeX Live 2023) kpathsea version 6.3.5', 'subject': '', 'templateversion': 'IJCAI.2023.0', 'title': '', 'trapped': '/False', 'source': 'paper_1.pdf', 'total_pages': 7, 'page': 3, 'page_label': '4'}, page_content='Figure 1: FinGPT Framework.\\n4.1 Data Sources\\nThe first stage of the FinGPT pipeline involves the collec-\\ntion of extensive financial data from a wide array of online\\nsources. These include, but are not limited to:\\n• Financial news: Websites such as Reuters, CNBC, Yahoo\\nFinance, among others, are rich sources of financial news\\nand market updates. These sites provide valuable informa-\\ntion on market trends, company earnings, macroeconomic\\nindicators, and other financial events.\\n• Social media: Platforms such as Twitter, Facebook, Red-\\ndit, Weibo, and others, offer a wealth of information in\\nterms of public sentiment, trending topics, and immediate\\nreactions to financial news and events.\\n• Filings: Websites of financial regulatory authorities, such\\nas the SEC in the United States, offer access to company\\nfilings. These filings include annual reports, quarterly earn-\\nings, insider trading reports, and other important company-\\nspecific information. Official websites of stock exchanges\\n(NYSE, NASDAQ, Shanghai Stock Exchange, etc.) pro-\\nvide crucial data on stock prices, trading volumes, company\\nlistings, historical data, and other related information.\\n• Trends: Websites like Seeking Alpha, Google Trends, and\\nother finance-focused blogs and forums provide access to\\nanalysts’ opinions, market predictions, the movement of\\nspecific securities or market segments and investment ad-\\nvice.\\n• Academic datasets: Research-based datasets that offer cu-\\nrated and verified information for sophisticated financial\\nanalysis.\\nTo harness the wealth of information from these diverse\\nsources, FinGPT incorporates data acquisition tools capable\\nof scraping structured and unstructured data, including APIs,\\nweb scraping tools, and direct database access where avail-\\nable. Moreover, the system is designed to respect the terms\\nof service of these platforms, ensuring data collection is ethi-\\ncal and legal.\\nData APIs: In the FinGPT framework, APIs are used not\\nonly for initial data collection but also for real-time data up-\\ndates, ensuring the model is trained on the most current data.\\nAdditionally, error handling and rate-limiting strategies are\\nimplemented to respect API usage limits and avoid disrup-\\ntions in the data flow.\\n4.2 Real-Time Data Engineering Pipeline for\\nFinancial NLP\\nFinancial markets operate in real-time and are highly sensi-\\ntive to news and sentiment. Prices of securities can change\\nrapidly in response to new information, and delays in pro-\\ncessing that information can result in missed opportunities or\\nincreased risk. As a result, real-time processing is essential in\\nfinancial NLP.\\nThe primary challenge with a real-time NLP pipeline is\\nmanaging and processing the continuous inflow of data ef-\\nficiently. The first step in the pipeline is to set up a system to'))"
            ]
          },
          "execution_count": 3,
          "metadata": {},
          "output_type": "execute_result"
        }
      ],
      "source": [
        "type(ml_papers), len(ml_papers), ml_papers[3]"
      ]
    },
    {
      "cell_type": "markdown",
      "metadata": {
        "id": "WJYjDA_GMi0Z"
      },
      "source": [
        "## Split de documents"
      ]
    },
    {
      "cell_type": "code",
      "execution_count": 4,
      "metadata": {
        "id": "4caTdNe-hk7w"
      },
      "outputs": [],
      "source": [
        "from langchain.text_splitter import RecursiveCharacterTextSplitter\n",
        "\n",
        "text_splitter = RecursiveCharacterTextSplitter(\n",
        "    chunk_size=1500,\n",
        "    chunk_overlap=200,\n",
        "    length_function=len\n",
        "    )\n",
        "\n",
        "documents = text_splitter.split_documents(ml_papers)"
      ]
    },
    {
      "cell_type": "code",
      "execution_count": 5,
      "metadata": {
        "colab": {
          "base_uri": "https://localhost:8080/"
        },
        "id": "koi4gwzthsGh",
        "outputId": "6ed35c64-9026-4222-b86a-379809bfb6dc"
      },
      "outputs": [
        {
          "data": {
            "text/plain": [
              "(211,\n",
              " Document(metadata={'producer': 'pdfTeX-1.40.25', 'creator': 'LaTeX with hyperref', 'creationdate': '2023-06-12T00:32:18+00:00', 'author': '', 'keywords': '', 'moddate': '2023-06-12T00:32:18+00:00', 'ptex.fullbanner': 'This is pdfTeX, Version 3.141592653-2.6-1.40.25 (TeX Live 2023) kpathsea version 6.3.5', 'subject': '', 'templateversion': 'IJCAI.2023.0', 'title': '', 'trapped': '/False', 'source': 'paper_1.pdf', 'total_pages': 7, 'page': 2, 'page_label': '3'}, page_content='highly volatile, changing rapidly in response to news events\\nor market movements.\\nTrends, often observable through websites like Seeking\\nAlpha, Google Trends, and other finance-oriented blogs and\\nforums, offer critical insights into market movements and in-\\nvestment strategies. They feature:\\n• Analyst perspectives: These platforms provide access to\\nmarket predictions and investment advice from seasoned\\nfinancial analysts and experts.\\n• Market sentiment: The discourse on these platforms can\\nreflect the collective sentiment about specific securities,\\nsectors, or the overall market, providing valuable insights\\ninto the prevailing market mood.\\n• Broad coverage: Trends data spans diverse securities and\\nmarket segments, offering comprehensive market coverage.\\nEach of these data sources provides unique insights into\\nthe financial world. By integrating these diverse data types,\\nfinancial language models like FinGPT can facilitate a com-\\nprehensive understanding of financial markets and enable ef-\\nfective financial decision-making.\\n3.2 Challenges in Handling Financial Data\\nWe summarize three major challenges for handling financial\\ndata as follows:\\n• High temporal sensitivity : Financial data are character-\\nized by their time-sensitive nature. Market-moving news or\\nupdates, once released, provide a narrow window of oppor-\\ntunity for investors to maximize their alpha (the measure of\\nan investment’s relative return).\\n• High dynamism : The financial landscape is perpetually'))"
            ]
          },
          "execution_count": 5,
          "metadata": {},
          "output_type": "execute_result"
        }
      ],
      "source": [
        "len(documents), documents[10]"
      ]
    },
    {
      "cell_type": "markdown",
      "metadata": {
        "id": "VuGSuQV6MmOA"
      },
      "source": [
        "## Embeddings e ingesta a base de datos vectorial"
      ]
    },
    {
      "cell_type": "code",
      "execution_count": 6,
      "metadata": {
        "id": "iZ-ZFWgRh9aV"
      },
      "outputs": [],
      "source": [
        "from langchain_openai import OpenAIEmbeddings\n",
        "from langchain.vectorstores import Chroma\n",
        "\n",
        "\n",
        "embeddings = OpenAIEmbeddings(model=\"text-embedding-ada-002\")\n",
        "\n",
        "vectorstore = Chroma.from_documents(\n",
        "    documents=documents,\n",
        "    embedding=embeddings\n",
        ")\n",
        "\n",
        "retriever = vectorstore.as_retriever(\n",
        "    search_kwargs={\"k\": 3}\n",
        "    )"
      ]
    },
    {
      "cell_type": "markdown",
      "metadata": {
        "id": "sBbAhkFKMrDC"
      },
      "source": [
        "## Modelos de chat y cadenas para consulta de información"
      ]
    },
    {
      "cell_type": "code",
      "execution_count": 7,
      "metadata": {
        "id": "fxjg2e6RiTqO"
      },
      "outputs": [
        {
          "name": "stderr",
          "output_type": "stream",
          "text": [
            "/tmp/ipykernel_18653/474697823.py:4: LangChainDeprecationWarning: The class `ChatOpenAI` was deprecated in LangChain 0.0.10 and will be removed in 1.0. An updated version of the class exists in the :class:`~langchain-openai package and should be used instead. To use it run `pip install -U :class:`~langchain-openai` and import as `from :class:`~langchain_openai import ChatOpenAI``.\n",
            "  chat = ChatOpenAI(\n"
          ]
        }
      ],
      "source": [
        "from langchain.chat_models import ChatOpenAI\n",
        "from langchain.chains import RetrievalQA\n",
        "\n",
        "chat = ChatOpenAI(\n",
        "    openai_api_key=OPENAI_API_KEY,\n",
        "    model_name='gpt-3.5-turbo',\n",
        "    temperature=0.0\n",
        ")\n",
        "\n",
        "qa_chain = RetrievalQA.from_chain_type(\n",
        "    llm=chat,\n",
        "    chain_type=\"stuff\",\n",
        "    retriever=retriever\n",
        ")"
      ]
    },
    {
      "cell_type": "code",
      "execution_count": 9,
      "metadata": {
        "colab": {
          "base_uri": "https://localhost:8080/",
          "height": 122
        },
        "id": "qgDyf-lOimCT",
        "outputId": "18f9ce42-2c78-4540-e6d3-ec5f01223cbb"
      },
      "outputs": [
        {
          "data": {
            "text/plain": [
              "{'query': 'qué es fingpt?',\n",
              " 'result': 'FinGPT es un modelo de lenguaje de código abierto diseñado para el procesamiento de lenguaje natural en el ámbito financiero. Adopta un enfoque centrado en los datos y cuenta con un marco de trabajo de extremo a extremo con cuatro capas. Su objetivo es estimular la innovación, democratizar los modelos de lenguaje financiero y desbloquear nuevas oportunidades en finanzas abiertas. Además, ofrece tutoriales prácticos y demostraciones de aplicaciones financieras para tareas como servicios de asesoramiento robótico, trading cuantitativo y desarrollo de bajo código.'}"
            ]
          },
          "execution_count": 9,
          "metadata": {},
          "output_type": "execute_result"
        }
      ],
      "source": [
        "query = \"qué es fingpt?\"\n",
        "qa_chain.invoke(query)"
      ]
    },
    {
      "cell_type": "code",
      "execution_count": 10,
      "metadata": {
        "colab": {
          "base_uri": "https://localhost:8080/",
          "height": 157
        },
        "id": "rfTiF52Bni8D",
        "outputId": "8e6cbcf0-998e-4cad-e11e-7c51fcb12f4e"
      },
      "outputs": [
        {
          "data": {
            "text/plain": [
              "{'query': 'qué hace complicado entrenar un modelo como el fingpt?',\n",
              " 'result': 'Entrenar un modelo como FinGPT puede ser complicado debido a la intensiva exigencia computacional que conlleva. Por ejemplo, BloombergGPT utilizó aproximadamente 1.3 millones de horas de GPU para su entrenamiento, lo que, al calcularse con la tarifa de $2.3 de la nube de AWS, se traduce en un costo impresionante de alrededor de $3 millones por entrenamiento. En contraste con el alto costo computacional de modelos como BloombergGPT, FinGPT presenta una solución más accesible al enfocarse en la adaptación ligera de los principales LLM de código abierto. El costo de adaptación disminuye significativamente, estimado en menos de $300 por entrenamiento.'}"
            ]
          },
          "execution_count": 10,
          "metadata": {},
          "output_type": "execute_result"
        }
      ],
      "source": [
        "query = \"qué hace complicado entrenar un modelo como el fingpt?\"\n",
        "qa_chain.invoke(query)"
      ]
    },
    {
      "cell_type": "code",
      "execution_count": 11,
      "metadata": {
        "colab": {
          "base_uri": "https://localhost:8080/",
          "height": 122
        },
        "id": "MmjAbVyUtLCF",
        "outputId": "d40b5c05-ebf2-4eea-e11a-721c9ad9e6e7"
      },
      "outputs": [
        {
          "data": {
            "text/plain": [
              "{'query': 'qué es fast segment?',\n",
              " 'result': 'Fast Segment, también conocido como FastSAM, es un modelo ligero diseñado para aplicaciones móviles que se basa en el modelo Segment Anything (SAM). FastSAM reemplaza el codificador de imágenes pesado de SAM con uno más ligero para hacerlo más adecuado para dispositivos móviles con recursos limitados. A través de un proceso de destilación desacoplada, FastSAM logra un rendimiento satisfactorio al segmentar objetos de interés en imágenes, incluso con fuentes de entrenamiento limitadas. En comparación con SAM, FastSAM muestra una mejora en la velocidad de ejecución y resultados satisfactorios en tareas como detección de bordes y segmentación de objetos salientes.'}"
            ]
          },
          "execution_count": 11,
          "metadata": {},
          "output_type": "execute_result"
        }
      ],
      "source": [
        "query = \"qué es fast segment?\"\n",
        "qa_chain.invoke(query)"
      ]
    },
    {
      "cell_type": "code",
      "execution_count": 12,
      "metadata": {
        "colab": {
          "base_uri": "https://localhost:8080/",
          "height": 139
        },
        "id": "4qfwxnkAt_Q8",
        "outputId": "5ffc4795-48de-4010-c763-da8abaf94c0b"
      },
      "outputs": [
        {
          "data": {
            "text/plain": [
              "{'query': 'cuál es la diferencia entre fast sam y mobile sam?',\n",
              " 'result': 'La diferencia principal entre FastSAM y MobileSAM es que MobileSAM es más rápido y más pequeño en tamaño en comparación con FastSAM. MobileSAM tiene menos parámetros (10M frente a 68M) y es cuatro veces más rápido en el procesamiento de imágenes (10ms frente a 40ms). Además, MobileSAM tiene un rendimiento superior en términos de mIoU (0.73 en comparación con 0.41 de FastSAM), lo que sugiere que la predicción de máscaras de MobileSAM es más cercana a la del SAM original que la de FastSAM.'}"
            ]
          },
          "execution_count": 12,
          "metadata": {},
          "output_type": "execute_result"
        }
      ],
      "source": [
        "query = \"cuál es la diferencia entre fast sam y mobile sam?\"\n",
        "qa_chain.invoke(query)"
      ]
    }
  ],
  "metadata": {
    "colab": {
      "provenance": []
    },
    "kernelspec": {
      "display_name": "venv",
      "language": "python",
      "name": "python3"
    },
    "language_info": {
      "codemirror_mode": {
        "name": "ipython",
        "version": 3
      },
      "file_extension": ".py",
      "mimetype": "text/x-python",
      "name": "python",
      "nbconvert_exporter": "python",
      "pygments_lexer": "ipython3",
      "version": "3.10.12"
    }
  },
  "nbformat": 4,
  "nbformat_minor": 0
}
